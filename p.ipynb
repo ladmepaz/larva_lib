{
 "cells": [
  {
   "cell_type": "code",
   "execution_count": 1,
   "metadata": {},
   "outputs": [
    {
     "data": {
      "text/plain": [
       "'c:\\\\Users\\\\hecto\\\\UNAL\\\\Auxiliatura\\\\LARVA\\\\larva_lib'"
      ]
     },
     "execution_count": 1,
     "metadata": {},
     "output_type": "execute_result"
    }
   ],
   "source": [
    "import os\n",
    "home = os.getcwd()\n",
    "home"
   ]
  },
  {
   "cell_type": "code",
   "execution_count": 2,
   "metadata": {},
   "outputs": [
    {
     "name": "stdout",
     "output_type": "stream",
     "text": [
      "Using pip 24.2 from c:\\Users\\hecto\\.conda\\envs\\larva\\Lib\\site-packages\\pip (python 3.12)\n",
      "Obtaining file:///C:/Users/hecto/UNAL/Auxiliatura/LARVA/larva_lib\n",
      "  Installing build dependencies: started\n",
      "  Installing build dependencies: finished with status 'done'\n",
      "  Checking if build backend supports build_editable: started\n",
      "  Checking if build backend supports build_editable: finished with status 'done'\n",
      "  Getting requirements to build editable: started\n",
      "  Getting requirements to build editable: finished with status 'done'\n",
      "  Preparing editable metadata (pyproject.toml): started\n",
      "  Preparing editable metadata (pyproject.toml): finished with status 'done'\n",
      "Requirement already satisfied: opencv-python>=4.5.3.56 in c:\\users\\hecto\\.conda\\envs\\larva\\lib\\site-packages (from larva_lib==0.0.0.0) (4.10.0)\n",
      "Building wheels for collected packages: larva_lib\n",
      "  Building editable for larva_lib (pyproject.toml): started\n",
      "  Building editable for larva_lib (pyproject.toml): finished with status 'done'\n",
      "  Created wheel for larva_lib: filename=larva_lib-0.0.0.0-0.editable-py3-none-any.whl size=3157 sha256=b4686f922ab0315f88cc105eab26b11b5161f866e405d9e010b36024d3cce08c\n",
      "  Stored in directory: C:\\Users\\hecto\\AppData\\Local\\Temp\\pip-ephem-wheel-cache-vfqhcan2\\wheels\\12\\30\\e4\\c6b0e53e08fb592f008ffbbead973f8148e769454caaf80654\n",
      "Successfully built larva_lib\n",
      "Installing collected packages: larva_lib\n",
      "  Attempting uninstall: larva_lib\n",
      "    Found existing installation: larva_lib 0.0.0.0\n",
      "    Uninstalling larva_lib-0.0.0.0:\n",
      "      Removing file or directory c:\\users\\hecto\\.conda\\envs\\larva\\lib\\site-packages\\__editable__.larva_lib-0.0.0.0.pth\n",
      "      Removing file or directory c:\\users\\hecto\\.conda\\envs\\larva\\lib\\site-packages\\__editable___larva_lib_0_0_0_0_finder.py\n",
      "      Removing file or directory c:\\users\\hecto\\.conda\\envs\\larva\\lib\\site-packages\\__pycache__\\__editable___larva_lib_0_0_0_0_finder.cpython-312.pyc\n",
      "      Removing file or directory c:\\users\\hecto\\.conda\\envs\\larva\\lib\\site-packages\\larva_lib-0.0.0.0.dist-info\\\n",
      "      Successfully uninstalled larva_lib-0.0.0.0\n",
      "Successfully installed larva_lib-0.0.0.0\n",
      "Note: you may need to restart the kernel to use updated packages.\n"
     ]
    },
    {
     "name": "stderr",
     "output_type": "stream",
     "text": [
      "  Running command pip subprocess to install build dependencies\n",
      "  Using pip 24.2 from C:\\Users\\hecto\\.conda\\envs\\larva\\Lib\\site-packages\\pip (python 3.12)\n",
      "  Collecting setuptools>=64\n",
      "    Obtaining dependency information for setuptools>=64 from https://files.pythonhosted.org/packages/48/f3/e30ee63caefa90716afdffd7d9ae959cd8d0dbd2d0a0eb9fe1d73ddf806b/setuptools-74.1.1-py3-none-any.whl.metadata\n",
      "    Downloading setuptools-74.1.1-py3-none-any.whl.metadata (6.7 kB)\n",
      "  Collecting wheel\n",
      "    Obtaining dependency information for wheel from https://files.pythonhosted.org/packages/1b/d1/9babe2ccaecff775992753d8686970b1e2755d21c8a63be73aba7a4e7d77/wheel-0.44.0-py3-none-any.whl.metadata\n",
      "    Downloading wheel-0.44.0-py3-none-any.whl.metadata (2.3 kB)\n",
      "  Downloading setuptools-74.1.1-py3-none-any.whl (1.3 MB)\n",
      "     ---------------------------------------- 0.0/1.3 MB ? eta -:--:--\n",
      "     ---------------------------------------- 0.0/1.3 MB ? eta -:--:--\n",
      "     -------- ------------------------------- 0.3/1.3 MB ? eta -:--:--\n",
      "     ---------------- ----------------------- 0.5/1.3 MB 2.1 MB/s eta 0:00:01\n",
      "     ------------------------ --------------- 0.8/1.3 MB 1.2 MB/s eta 0:00:01\n",
      "     --------------------------------- ------ 1.0/1.3 MB 1.1 MB/s eta 0:00:01\n",
      "     --------------------------------- ------ 1.0/1.3 MB 1.1 MB/s eta 0:00:01\n",
      "     ---------------------------------------- 1.3/1.3 MB 1.1 MB/s eta 0:00:00\n",
      "  Downloading wheel-0.44.0-py3-none-any.whl (67 kB)\n",
      "  Installing collected packages: wheel, setuptools\n",
      "    Creating C:\\Users\\hecto\\AppData\\Local\\Temp\\pip-build-env-zf5kmbbl\\overlay\\Scripts\n",
      "  Successfully installed setuptools-74.1.1 wheel-0.44.0\n",
      "  Running command Checking if build backend supports build_editable\n",
      "  Running command Getting requirements to build editable\n",
      "  running egg_info\n",
      "  creating larva_lib.egg-info\n",
      "  writing larva_lib.egg-info\\PKG-INFO\n",
      "  writing dependency_links to larva_lib.egg-info\\dependency_links.txt\n",
      "  writing requirements to larva_lib.egg-info\\requires.txt\n",
      "  writing top-level names to larva_lib.egg-info\\top_level.txt\n",
      "  writing manifest file 'larva_lib.egg-info\\SOURCES.txt'\n",
      "  reading manifest file 'larva_lib.egg-info\\SOURCES.txt'\n",
      "  writing manifest file 'larva_lib.egg-info\\SOURCES.txt'\n",
      "  Running command Preparing editable metadata (pyproject.toml)\n",
      "  running dist_info\n",
      "  creating C:\\Users\\hecto\\AppData\\Local\\Temp\\pip-modern-metadata-qiffz76z\\larva_lib.egg-info\n",
      "  writing C:\\Users\\hecto\\AppData\\Local\\Temp\\pip-modern-metadata-qiffz76z\\larva_lib.egg-info\\PKG-INFO\n",
      "  writing dependency_links to C:\\Users\\hecto\\AppData\\Local\\Temp\\pip-modern-metadata-qiffz76z\\larva_lib.egg-info\\dependency_links.txt\n",
      "  writing requirements to C:\\Users\\hecto\\AppData\\Local\\Temp\\pip-modern-metadata-qiffz76z\\larva_lib.egg-info\\requires.txt\n",
      "  writing top-level names to C:\\Users\\hecto\\AppData\\Local\\Temp\\pip-modern-metadata-qiffz76z\\larva_lib.egg-info\\top_level.txt\n",
      "  writing manifest file 'C:\\Users\\hecto\\AppData\\Local\\Temp\\pip-modern-metadata-qiffz76z\\larva_lib.egg-info\\SOURCES.txt'\n",
      "  reading manifest file 'C:\\Users\\hecto\\AppData\\Local\\Temp\\pip-modern-metadata-qiffz76z\\larva_lib.egg-info\\SOURCES.txt'\n",
      "  writing manifest file 'C:\\Users\\hecto\\AppData\\Local\\Temp\\pip-modern-metadata-qiffz76z\\larva_lib.egg-info\\SOURCES.txt'\n",
      "  creating 'C:\\Users\\hecto\\AppData\\Local\\Temp\\pip-modern-metadata-qiffz76z\\larva_lib-0.0.0.0.dist-info'\n",
      "  Running command Building editable for larva_lib (pyproject.toml)\n",
      "  running editable_wheel\n",
      "  creating C:\\Users\\hecto\\AppData\\Local\\Temp\\pip-wheel-ng4wh8nw\\.tmp-ycc2mhot\\larva_lib.egg-info\n",
      "  writing C:\\Users\\hecto\\AppData\\Local\\Temp\\pip-wheel-ng4wh8nw\\.tmp-ycc2mhot\\larva_lib.egg-info\\PKG-INFO\n",
      "  writing dependency_links to C:\\Users\\hecto\\AppData\\Local\\Temp\\pip-wheel-ng4wh8nw\\.tmp-ycc2mhot\\larva_lib.egg-info\\dependency_links.txt\n",
      "  writing requirements to C:\\Users\\hecto\\AppData\\Local\\Temp\\pip-wheel-ng4wh8nw\\.tmp-ycc2mhot\\larva_lib.egg-info\\requires.txt\n",
      "  writing top-level names to C:\\Users\\hecto\\AppData\\Local\\Temp\\pip-wheel-ng4wh8nw\\.tmp-ycc2mhot\\larva_lib.egg-info\\top_level.txt\n",
      "  writing manifest file 'C:\\Users\\hecto\\AppData\\Local\\Temp\\pip-wheel-ng4wh8nw\\.tmp-ycc2mhot\\larva_lib.egg-info\\SOURCES.txt'\n",
      "  reading manifest file 'C:\\Users\\hecto\\AppData\\Local\\Temp\\pip-wheel-ng4wh8nw\\.tmp-ycc2mhot\\larva_lib.egg-info\\SOURCES.txt'\n",
      "  writing manifest file 'C:\\Users\\hecto\\AppData\\Local\\Temp\\pip-wheel-ng4wh8nw\\.tmp-ycc2mhot\\larva_lib.egg-info\\SOURCES.txt'\n",
      "  creating 'C:\\Users\\hecto\\AppData\\Local\\Temp\\pip-wheel-ng4wh8nw\\.tmp-ycc2mhot\\larva_lib-0.0.0.0.dist-info'\n",
      "  creating C:\\Users\\hecto\\AppData\\Local\\Temp\\pip-wheel-ng4wh8nw\\.tmp-ycc2mhot\\larva_lib-0.0.0.0.dist-info\\WHEEL\n",
      "  running build_py\n",
      "  Editable install will be performed using a meta path finder.\n",
      "\n",
      "  Options like `package-data`, `include/exclude-package-data` or\n",
      "  `packages.find.exclude/include` may have no effect.\n",
      "\n",
      "  adding '__editable___larva_lib_0_0_0_0_finder.py'\n",
      "  adding '__editable__.larva_lib-0.0.0.0.pth'\n",
      "  creating 'C:\\Users\\hecto\\AppData\\Local\\Temp\\pip-wheel-ng4wh8nw\\.tmp-ycc2mhot\\larva_lib-0.0.0.0-0.editable-py3-none-any.whl' and adding 'C:\\Users\\hecto\\AppData\\Local\\Temp\\tmp9zjl2ah6larva_lib-0.0.0.0-0.editable-py3-none-any.whl' to it\n",
      "  adding 'larva_lib-0.0.0.0.dist-info/METADATA'\n",
      "  adding 'larva_lib-0.0.0.0.dist-info/WHEEL'\n",
      "  adding 'larva_lib-0.0.0.0.dist-info/top_level.txt'\n",
      "  adding 'larva_lib-0.0.0.0.dist-info/RECORD'\n",
      "  C:\\Users\\hecto\\AppData\\Local\\Temp\\pip-build-env-zf5kmbbl\\overlay\\Lib\\site-packages\\setuptools\\command\\editable_wheel.py:343: InformationOnly: Editable installation.\n",
      "  !!\n",
      "\n",
      "          ********************************************************************************\n",
      "          Please be careful with folders in your working directory with the same\n",
      "          name as your package as they may take precedence during imports.\n",
      "          ********************************************************************************\n",
      "\n",
      "  !!\n",
      "    with strategy, WheelFile(wheel_path, \"w\") as wheel_obj:\n"
     ]
    }
   ],
   "source": [
    "%pip install -e . --verbose"
   ]
  },
  {
   "cell_type": "code",
   "execution_count": null,
   "metadata": {},
   "outputs": [],
   "source": [
    "import larva as lv\n",
    "import larva.lighting_control as lc\n",
    "\n",
    "lv.lighting_control.LightSimple()\n",
    "lc.LightSimple(1)"
   ]
  }
 ],
 "metadata": {
  "kernelspec": {
   "display_name": "larva",
   "language": "python",
   "name": "python3"
  },
  "language_info": {
   "codemirror_mode": {
    "name": "ipython",
    "version": 3
   },
   "file_extension": ".py",
   "mimetype": "text/x-python",
   "name": "python",
   "nbconvert_exporter": "python",
   "pygments_lexer": "ipython3",
   "version": "3.12.5"
  }
 },
 "nbformat": 4,
 "nbformat_minor": 2
}
