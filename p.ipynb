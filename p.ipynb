{
 "cells": [
  {
   "cell_type": "code",
   "execution_count": 1,
   "metadata": {},
   "outputs": [
    {
     "data": {
      "text/plain": [
       "'c:\\\\Users\\\\hecto\\\\UNAL\\\\Auxiliatura\\\\LARVA\\\\larva_lib'"
      ]
     },
     "execution_count": 1,
     "metadata": {},
     "output_type": "execute_result"
    }
   ],
   "source": [
    "import os\n",
    "home = os.getcwd()\n",
    "home"
   ]
  },
  {
   "cell_type": "code",
   "execution_count": 6,
   "metadata": {},
   "outputs": [
    {
     "name": "stdout",
     "output_type": "stream",
     "text": [
      "Using pip 24.2 from /home/hevasr/miniconda3/envs/larva/lib/python3.12/site-packages/pip (python 3.12)\n",
      "Obtaining file:///home/hevasr/UNAL/larva_lib\n",
      "  Installing build dependencies ... \u001b[?25l  Running command pip subprocess to install build dependencies\n",
      "  Using pip 24.2 from /home/hevasr/miniconda3/envs/larva/lib/python3.12/site-packages/pip (python 3.12)\n",
      "  Collecting setuptools>=64\n",
      "    Obtaining dependency information for setuptools>=64 from https://files.pythonhosted.org/packages/ff/ae/f19306b5a221f6a436d8f2238d5b80925004093fa3edea59835b514d9057/setuptools-75.1.0-py3-none-any.whl.metadata\n",
      "    Downloading setuptools-75.1.0-py3-none-any.whl.metadata (6.9 kB)\n",
      "  Collecting wheel\n",
      "    Obtaining dependency information for wheel from https://files.pythonhosted.org/packages/1b/d1/9babe2ccaecff775992753d8686970b1e2755d21c8a63be73aba7a4e7d77/wheel-0.44.0-py3-none-any.whl.metadata\n",
      "    Downloading wheel-0.44.0-py3-none-any.whl.metadata (2.3 kB)\n",
      "  Downloading setuptools-75.1.0-py3-none-any.whl (1.2 MB)\n",
      "  \u001b[?25l   \u001b[38;5;237m━━━━━━━━━━━━━━━━━━━━━━━━━━━━━━━━━━━━━━━━\u001b[0m \u001b[32m0.0/1.2 MB\u001b[0m \u001b[31m?\u001b[0m eta \u001b[36m-:--:--\u001b[0m\n",
      "  \u001b[2K   \u001b[38;5;237m━━━━━━━━━━━━━━━━━━━━━━━━━━━━━━━━━━━━━━━━\u001b[0m \u001b[32m0.0/1.2 MB\u001b[0m \u001b[31m?\u001b[0m eta \u001b[36m-:--:--\u001b[0m\n",
      "  \u001b[2K   \u001b[38;2;249;38;114m━━━━━━━━\u001b[0m\u001b[38;5;237m╺\u001b[0m\u001b[38;5;237m━━━━━━━━━━━━━━━━━━━━━━━━━━━━━━━\u001b[0m \u001b[32m0.3/1.2 MB\u001b[0m \u001b[31m?\u001b[0m eta \u001b[36m-:--:--\u001b[0m\n",
      "  \u001b[2K   \u001b[38;2;249;38;114m━━━━━━━━━━━━━━━━━━━━━━━━━\u001b[0m\u001b[38;5;237m╺\u001b[0m\u001b[38;5;237m━━━━━━━━━━━━━━\u001b[0m \u001b[32m0.8/1.2 MB\u001b[0m \u001b[31m1.7 MB/s\u001b[0m eta \u001b[36m0:00:01\u001b[0m\n",
      "  \u001b[2K   \u001b[38;2;114;156;31m━━━━━━━━━━━━━━━━━━━━━━━━━━━━━━━━━━━━━━━━\u001b[0m \u001b[32m1.2/1.2 MB\u001b[0m \u001b[31m2.1 MB/s\u001b[0m eta \u001b[36m0:00:00\u001b[0m\n",
      "  \u001b[?25hDownloading wheel-0.44.0-py3-none-any.whl (67 kB)\n",
      "  Installing collected packages: wheel, setuptools\n",
      "    Creating /tmp/pip-build-env-zbhjs8q5/overlay/bin\n",
      "    changing mode of /tmp/pip-build-env-zbhjs8q5/overlay/bin/wheel to 775\n",
      "  Successfully installed setuptools-75.1.0 wheel-0.44.0\n",
      "\u001b[?25hdone\n",
      "  Checking if build backend supports build_editable ... \u001b[?25l  Running command Checking if build backend supports build_editable\n",
      "\u001b[?25hdone\n",
      "  Getting requirements to build editable ... \u001b[?25l  Running command Getting requirements to build editable\n",
      "  running egg_info\n",
      "  writing larva_lib.egg-info/PKG-INFO\n",
      "  writing dependency_links to larva_lib.egg-info/dependency_links.txt\n",
      "  writing requirements to larva_lib.egg-info/requires.txt\n",
      "  writing top-level names to larva_lib.egg-info/top_level.txt\n",
      "  reading manifest file 'larva_lib.egg-info/SOURCES.txt'\n",
      "  adding license file 'LICENSE'\n",
      "  writing manifest file 'larva_lib.egg-info/SOURCES.txt'\n",
      "\u001b[?25hdone\n",
      "  Preparing editable metadata (pyproject.toml) ... \u001b[?25l  Running command Preparing editable metadata (pyproject.toml)\n",
      "  running dist_info\n",
      "  creating /tmp/pip-modern-metadata-z6xllh_m/larva_lib.egg-info\n",
      "  writing /tmp/pip-modern-metadata-z6xllh_m/larva_lib.egg-info/PKG-INFO\n",
      "  writing dependency_links to /tmp/pip-modern-metadata-z6xllh_m/larva_lib.egg-info/dependency_links.txt\n",
      "  writing requirements to /tmp/pip-modern-metadata-z6xllh_m/larva_lib.egg-info/requires.txt\n",
      "  writing top-level names to /tmp/pip-modern-metadata-z6xllh_m/larva_lib.egg-info/top_level.txt\n",
      "  writing manifest file '/tmp/pip-modern-metadata-z6xllh_m/larva_lib.egg-info/SOURCES.txt'\n",
      "  reading manifest file '/tmp/pip-modern-metadata-z6xllh_m/larva_lib.egg-info/SOURCES.txt'\n",
      "  adding license file 'LICENSE'\n",
      "  writing manifest file '/tmp/pip-modern-metadata-z6xllh_m/larva_lib.egg-info/SOURCES.txt'\n",
      "  creating '/tmp/pip-modern-metadata-z6xllh_m/larva_lib-0.0.0.4.dist-info'\n",
      "\u001b[?25hdone\n",
      "Requirement already satisfied: opencv-python>=4.5.3.56 in /home/hevasr/miniconda3/envs/larva/lib/python3.12/site-packages (from larva_lib==0.0.0.4) (4.10.0.84)\n",
      "Requirement already satisfied: Jetson.GPIO>=2.0.0 in /home/hevasr/miniconda3/envs/larva/lib/python3.12/site-packages (from larva_lib==0.0.0.4) (2.1.6)\n",
      "Requirement already satisfied: numpy>=1.21.2 in /home/hevasr/miniconda3/envs/larva/lib/python3.12/site-packages (from opencv-python>=4.5.3.56->larva_lib==0.0.0.4) (2.1.1)\n",
      "Building wheels for collected packages: larva_lib\n",
      "  Building editable for larva_lib (pyproject.toml) ... \u001b[?25l  Running command Building editable for larva_lib (pyproject.toml)\n",
      "  running editable_wheel\n",
      "  creating /tmp/pip-wheel-td8rn7ti/.tmp-ojm5usj8/larva_lib.egg-info\n",
      "  writing /tmp/pip-wheel-td8rn7ti/.tmp-ojm5usj8/larva_lib.egg-info/PKG-INFO\n",
      "  writing dependency_links to /tmp/pip-wheel-td8rn7ti/.tmp-ojm5usj8/larva_lib.egg-info/dependency_links.txt\n",
      "  writing requirements to /tmp/pip-wheel-td8rn7ti/.tmp-ojm5usj8/larva_lib.egg-info/requires.txt\n",
      "  writing top-level names to /tmp/pip-wheel-td8rn7ti/.tmp-ojm5usj8/larva_lib.egg-info/top_level.txt\n",
      "  writing manifest file '/tmp/pip-wheel-td8rn7ti/.tmp-ojm5usj8/larva_lib.egg-info/SOURCES.txt'\n",
      "  reading manifest file '/tmp/pip-wheel-td8rn7ti/.tmp-ojm5usj8/larva_lib.egg-info/SOURCES.txt'\n",
      "  adding license file 'LICENSE'\n",
      "  writing manifest file '/tmp/pip-wheel-td8rn7ti/.tmp-ojm5usj8/larva_lib.egg-info/SOURCES.txt'\n",
      "  creating '/tmp/pip-wheel-td8rn7ti/.tmp-ojm5usj8/larva_lib-0.0.0.4.dist-info'\n",
      "  creating /tmp/pip-wheel-td8rn7ti/.tmp-ojm5usj8/larva_lib-0.0.0.4.dist-info/WHEEL\n",
      "  running build_py\n",
      "  Editable install will be performed using a meta path finder.\n",
      "\n",
      "  Options like `package-data`, `include/exclude-package-data` or\n",
      "  `packages.find.exclude/include` may have no effect.\n",
      "\n",
      "  adding '__editable___larva_lib_0_0_0_4_finder.py'\n",
      "  adding '__editable__.larva_lib-0.0.0.4.pth'\n",
      "  creating '/tmp/pip-wheel-td8rn7ti/.tmp-ojm5usj8/larva_lib-0.0.0.4-0.editable-py3-none-any.whl' and adding '/tmp/tmp83h8ywh1larva_lib-0.0.0.4-0.editable-py3-none-any.whl' to it\n",
      "  adding 'larva_lib-0.0.0.4.dist-info/LICENSE'\n",
      "  adding 'larva_lib-0.0.0.4.dist-info/METADATA'\n",
      "  adding 'larva_lib-0.0.0.4.dist-info/WHEEL'\n",
      "  adding 'larva_lib-0.0.0.4.dist-info/top_level.txt'\n",
      "  adding 'larva_lib-0.0.0.4.dist-info/RECORD'\n",
      "  /tmp/pip-build-env-zbhjs8q5/overlay/lib/python3.12/site-packages/setuptools/command/editable_wheel.py:343: InformationOnly: Editable installation.\n",
      "  !!\n",
      "\n",
      "          ********************************************************************************\n",
      "          Please be careful with folders in your working directory with the same\n",
      "          name as your package as they may take precedence during imports.\n",
      "          ********************************************************************************\n",
      "\n",
      "  !!\n",
      "    with strategy, WheelFile(wheel_path, \"w\") as wheel_obj:\n",
      "\u001b[?25hdone\n",
      "  Created wheel for larva_lib: filename=larva_lib-0.0.0.4-0.editable-py3-none-any.whl size=7305 sha256=64c9d0b85f5b727b6d9d5283a41f43334efafe4f9ef4069c2c957ff3129f4851\n",
      "  Stored in directory: /tmp/pip-ephem-wheel-cache-8dxkd9gn/wheels/8e/e9/3c/a53bc87e0f3a706592d78acc583cf18bf67b695360bc6a1116\n",
      "Successfully built larva_lib\n",
      "Installing collected packages: larva_lib\n",
      "  Attempting uninstall: larva_lib\n",
      "    Found existing installation: larva_lib 0.0.0.4\n",
      "    Uninstalling larva_lib-0.0.0.4:\n",
      "      Removing file or directory /home/hevasr/miniconda3/envs/larva/lib/python3.12/site-packages/larva/\n",
      "      Removing file or directory /home/hevasr/miniconda3/envs/larva/lib/python3.12/site-packages/larva_lib-0.0.0.4.dist-info/\n",
      "      Successfully uninstalled larva_lib-0.0.0.4\n",
      "Successfully installed larva_lib-0.0.0.4\n",
      "Note: you may need to restart the kernel to use updated packages.\n"
     ]
    }
   ],
   "source": [
    "%pip install -e . --verbose"
   ]
  },
  {
   "cell_type": "code",
   "execution_count": 5,
   "metadata": {},
   "outputs": [
    {
     "name": "stderr",
     "output_type": "stream",
     "text": [
      "[ WARN:0@85.895] global cap_v4l.cpp:999 open VIDEOIO(V4L2:/dev/video0): can't open camera by index\n",
      "[ERROR:0@85.895] global obsensor_uvc_stream_channel.cpp:158 getStreamChannelGroup Camera index out of range\n"
     ]
    },
    {
     "ename": "KeyboardInterrupt",
     "evalue": "",
     "output_type": "error",
     "traceback": [
      "\u001b[0;31m---------------------------------------------------------------------------\u001b[0m",
      "\u001b[0;31mKeyboardInterrupt\u001b[0m                         Traceback (most recent call last)",
      "Cell \u001b[0;32mIn[5], line 7\u001b[0m\n\u001b[1;32m      3\u001b[0m \u001b[38;5;66;03m#import larva.lighting_control as lc\u001b[39;00m\n\u001b[1;32m      5\u001b[0m camara \u001b[38;5;241m=\u001b[39m larva\u001b[38;5;241m.\u001b[39mimage_capture\u001b[38;5;241m.\u001b[39mImageCapture()\n\u001b[0;32m----> 7\u001b[0m foto \u001b[38;5;241m=\u001b[39m \u001b[43mcamara\u001b[49m\u001b[38;5;241;43m.\u001b[39;49m\u001b[43mcapture_and_show\u001b[49m\u001b[43m(\u001b[49m\u001b[43m)\u001b[49m\n",
      "File \u001b[0;32m~/UNAL/larva_lib/larva/image_capture.py:20\u001b[0m, in \u001b[0;36mImageCapture.capture_and_show\u001b[0;34m(self)\u001b[0m\n\u001b[1;32m     18\u001b[0m     \u001b[38;5;28;01mif\u001b[39;00m ret:\n\u001b[1;32m     19\u001b[0m         cv2\u001b[38;5;241m.\u001b[39mimshow(\u001b[38;5;124m'\u001b[39m\u001b[38;5;124mframe\u001b[39m\u001b[38;5;124m'\u001b[39m, frame)\n\u001b[0;32m---> 20\u001b[0m     \u001b[38;5;28;01mif\u001b[39;00m \u001b[43mcv2\u001b[49m\u001b[38;5;241;43m.\u001b[39;49m\u001b[43mwaitKey\u001b[49m\u001b[43m(\u001b[49m\u001b[38;5;241;43m1\u001b[39;49m\u001b[43m)\u001b[49m \u001b[38;5;241m&\u001b[39m \u001b[38;5;241m0xFF\u001b[39m \u001b[38;5;241m==\u001b[39m \u001b[38;5;28mord\u001b[39m(\u001b[38;5;124m'\u001b[39m\u001b[38;5;124mq\u001b[39m\u001b[38;5;124m'\u001b[39m):\n\u001b[1;32m     21\u001b[0m         \u001b[38;5;28;01mbreak\u001b[39;00m\n\u001b[1;32m     22\u001b[0m \u001b[38;5;28mself\u001b[39m\u001b[38;5;241m.\u001b[39mrelease()\n",
      "\u001b[0;31mKeyboardInterrupt\u001b[0m: "
     ]
    }
   ],
   "source": [
    "import larva\n",
    "import larva.image_capture \n",
    "#import larva.lighting_control as lc\n",
    "\n",
    "camara = larva.image_capture.ImageCapture()\n",
    "\n",
    "foto = camara.capture_and_show()"
   ]
  },
  {
   "cell_type": "code",
   "execution_count": 1,
   "metadata": {},
   "outputs": [],
   "source": [
    "import cv2\n",
    "import numpy as np\n",
    "import IPython.display as display\n",
    "from IPython.display import clear_output\n",
    "import ipywidgets as widgets\n",
    "import time"
   ]
  },
  {
   "cell_type": "code",
   "execution_count": 2,
   "metadata": {},
   "outputs": [
    {
     "name": "stdout",
     "output_type": "stream",
     "text": [
      "Stopped by user.\n"
     ]
    }
   ],
   "source": [
    "# Inicializar la cámara\n",
    "cap = cv2.VideoCapture(0)  # Usa 0 para la cámara predeterminada\n",
    "\n",
    "# Crear un widget para mostrar la imagen\n",
    "image_widget = widgets.Image(format='jpeg')\n",
    "\n",
    "def update_frame():\n",
    "    ret, frame = cap.read()\n",
    "    if ret:\n",
    "        # Convertir el frame a JPEG\n",
    "        _, jpeg = cv2.imencode('.jpg', frame)\n",
    "        image_widget.value = jpeg.tobytes()\n",
    "        display.display(image_widget)\n",
    "        clear_output(wait=True)\n",
    "\n",
    "# Actualizar la imagen en intervalos regulares\n",
    "def display_camera():\n",
    "    try:\n",
    "        while True:\n",
    "            update_frame()\n",
    "            # Ajustar el intervalo de actualización si es necesario\n",
    "            time.sleep(0.1)\n",
    "    except KeyboardInterrupt:\n",
    "        print(\"Stopped by user.\")\n",
    "        cap.release()\n",
    "\n",
    "# Ejecutar la visualización en una celda\n",
    "display_camera()\n"
   ]
  },
  {
   "cell_type": "code",
   "execution_count": 3,
   "metadata": {},
   "outputs": [],
   "source": [
    "import matplotlib.pyplot as plt\n",
    "import cv2\n",
    "import numpy as np\n",
    "from IPython.display import display, Image\n",
    "import ipywidgets as widgets\n",
    "import threading"
   ]
  }
 ],
 "metadata": {
  "kernelspec": {
   "display_name": "larva",
   "language": "python",
   "name": "python3"
  },
  "language_info": {
   "codemirror_mode": {
    "name": "ipython",
    "version": 3
   },
   "file_extension": ".py",
   "mimetype": "text/x-python",
   "name": "python",
   "nbconvert_exporter": "python",
   "pygments_lexer": "ipython3",
   "version": "3.12.4"
  }
 },
 "nbformat": 4,
 "nbformat_minor": 2
}
