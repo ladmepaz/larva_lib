{
 "cells": [
  {
   "cell_type": "code",
   "execution_count": 1,
   "metadata": {},
   "outputs": [
    {
     "data": {
      "text/plain": [
       "'c:\\\\Users\\\\hecto\\\\OneDrive - Universidad Nacional de Colombia\\\\Proyectos UNAL\\\\larva_lib'"
      ]
     },
     "execution_count": 1,
     "metadata": {},
     "output_type": "execute_result"
    }
   ],
   "source": [
    "import os\n",
    "home = os.getcwd()\n",
    "home"
   ]
  },
  {
   "cell_type": "code",
   "execution_count": 2,
   "metadata": {},
   "outputs": [
    {
     "name": "stdout",
     "output_type": "stream",
     "text": [
      "Using pip 24.2 from c:\\Users\\hecto\\.conda\\envs\\larva\\Lib\\site-packages\\pip (python 3.12)\n",
      "Obtaining file:///C:/Users/hecto/OneDrive%20-%20Universidad%20Nacional%20de%20Colombia/Proyectos%20UNAL/larva_lib\n",
      "  Preparing metadata (setup.py): started\n",
      "  Preparing metadata (setup.py): finished with status 'done'\n",
      "Collecting Jetson.GPIO>=2.0.0 (from Larva_lib==0.1.2)\n",
      "  Using cached Jetson.GPIO-2.1.6.tar.gz (33 kB)\n",
      "  Preparing metadata (setup.py): started\n",
      "  Preparing metadata (setup.py): finished with status 'error'\n",
      "Note: you may need to restart the kernel to use updated packages.\n"
     ]
    },
    {
     "name": "stderr",
     "output_type": "stream",
     "text": [
      "  Running command python setup.py egg_info\n",
      "  running egg_info\n",
      "  creating C:\\Users\\hecto\\AppData\\Local\\Temp\\pip-pip-egg-info-wq0v86f3\\Larva_lib.egg-info\n",
      "  writing C:\\Users\\hecto\\AppData\\Local\\Temp\\pip-pip-egg-info-wq0v86f3\\Larva_lib.egg-info\\PKG-INFO\n",
      "  writing dependency_links to C:\\Users\\hecto\\AppData\\Local\\Temp\\pip-pip-egg-info-wq0v86f3\\Larva_lib.egg-info\\dependency_links.txt\n",
      "  writing requirements to C:\\Users\\hecto\\AppData\\Local\\Temp\\pip-pip-egg-info-wq0v86f3\\Larva_lib.egg-info\\requires.txt\n",
      "  writing top-level names to C:\\Users\\hecto\\AppData\\Local\\Temp\\pip-pip-egg-info-wq0v86f3\\Larva_lib.egg-info\\top_level.txt\n",
      "  writing manifest file 'C:\\Users\\hecto\\AppData\\Local\\Temp\\pip-pip-egg-info-wq0v86f3\\Larva_lib.egg-info\\SOURCES.txt'\n",
      "  reading manifest file 'C:\\Users\\hecto\\AppData\\Local\\Temp\\pip-pip-egg-info-wq0v86f3\\Larva_lib.egg-info\\SOURCES.txt'\n",
      "  writing manifest file 'C:\\Users\\hecto\\AppData\\Local\\Temp\\pip-pip-egg-info-wq0v86f3\\Larva_lib.egg-info\\SOURCES.txt'\n",
      "  Running command python setup.py egg_info\n",
      "  running egg_info\n",
      "  creating C:\\Users\\hecto\\AppData\\Local\\Temp\\pip-pip-egg-info-99rm85_3\\Jetson.GPIO.egg-info\n",
      "  writing C:\\Users\\hecto\\AppData\\Local\\Temp\\pip-pip-egg-info-99rm85_3\\Jetson.GPIO.egg-info\\PKG-INFO\n",
      "  writing dependency_links to C:\\Users\\hecto\\AppData\\Local\\Temp\\pip-pip-egg-info-99rm85_3\\Jetson.GPIO.egg-info\\dependency_links.txt\n",
      "  writing top-level names to C:\\Users\\hecto\\AppData\\Local\\Temp\\pip-pip-egg-info-99rm85_3\\Jetson.GPIO.egg-info\\top_level.txt\n",
      "  writing manifest file 'C:\\Users\\hecto\\AppData\\Local\\Temp\\pip-pip-egg-info-99rm85_3\\Jetson.GPIO.egg-info\\SOURCES.txt'\n",
      "  Traceback (most recent call last):\n",
      "    File \"<string>\", line 2, in <module>\n",
      "    File \"<pip-setuptools-caller>\", line 34, in <module>\n",
      "    File \"C:\\Users\\hecto\\AppData\\Local\\Temp\\pip-install-rgt4g6v7\\jetson-gpio_a6580114eaa747ad96ee76483077be57\\setup.py\", line 31, in <module>\n",
      "      setup(name                          = 'Jetson.GPIO',\n",
      "    File \"c:\\Users\\hecto\\.conda\\envs\\larva\\Lib\\site-packages\\setuptools\\__init__.py\", line 108, in setup\n",
      "      return distutils.core.setup(**attrs)\n",
      "             ^^^^^^^^^^^^^^^^^^^^^^^^^^^^^\n",
      "    File \"c:\\Users\\hecto\\.conda\\envs\\larva\\Lib\\site-packages\\setuptools\\_distutils\\core.py\", line 184, in setup\n",
      "      return run_commands(dist)\n",
      "             ^^^^^^^^^^^^^^^^^^\n",
      "    File \"c:\\Users\\hecto\\.conda\\envs\\larva\\Lib\\site-packages\\setuptools\\_distutils\\core.py\", line 200, in run_commands\n",
      "      dist.run_commands()\n",
      "    File \"c:\\Users\\hecto\\.conda\\envs\\larva\\Lib\\site-packages\\setuptools\\_distutils\\dist.py\", line 970, in run_commands\n",
      "      self.run_command(cmd)\n",
      "    File \"c:\\Users\\hecto\\.conda\\envs\\larva\\Lib\\site-packages\\setuptools\\dist.py\", line 945, in run_command\n",
      "      super().run_command(command)\n",
      "    File \"c:\\Users\\hecto\\.conda\\envs\\larva\\Lib\\site-packages\\setuptools\\_distutils\\dist.py\", line 989, in run_command\n",
      "      cmd_obj.run()\n",
      "    File \"c:\\Users\\hecto\\.conda\\envs\\larva\\Lib\\site-packages\\setuptools\\command\\egg_info.py\", line 310, in run\n",
      "      self.find_sources()\n",
      "    File \"c:\\Users\\hecto\\.conda\\envs\\larva\\Lib\\site-packages\\setuptools\\command\\egg_info.py\", line 318, in find_sources\n",
      "      mm.run()\n",
      "    File \"c:\\Users\\hecto\\.conda\\envs\\larva\\Lib\\site-packages\\setuptools\\command\\egg_info.py\", line 539, in run\n",
      "      self.add_defaults()\n",
      "    File \"c:\\Users\\hecto\\.conda\\envs\\larva\\Lib\\site-packages\\setuptools\\command\\egg_info.py\", line 577, in add_defaults\n",
      "      sdist.add_defaults(self)\n",
      "    File \"c:\\Users\\hecto\\.conda\\envs\\larva\\Lib\\site-packages\\setuptools\\command\\sdist.py\", line 102, in add_defaults\n",
      "      super().add_defaults()\n",
      "    File \"c:\\Users\\hecto\\.conda\\envs\\larva\\Lib\\site-packages\\setuptools\\_distutils\\command\\sdist.py\", line 248, in add_defaults\n",
      "      self._add_defaults_python()\n",
      "    File \"c:\\Users\\hecto\\.conda\\envs\\larva\\Lib\\site-packages\\setuptools\\command\\sdist.py\", line 113, in _add_defaults_python\n",
      "      build_py = self.get_finalized_command('build_py')\n",
      "                 ^^^^^^^^^^^^^^^^^^^^^^^^^^^^^^^^^^^^^^\n",
      "    File \"c:\\Users\\hecto\\.conda\\envs\\larva\\Lib\\site-packages\\setuptools\\_distutils\\cmd.py\", line 303, in get_finalized_command\n",
      "      cmd_obj.ensure_finalized()\n",
      "    File \"c:\\Users\\hecto\\.conda\\envs\\larva\\Lib\\site-packages\\setuptools\\_distutils\\cmd.py\", line 111, in ensure_finalized\n",
      "      self.finalize_options()\n",
      "    File \"c:\\Users\\hecto\\.conda\\envs\\larva\\Lib\\site-packages\\setuptools\\command\\build_py.py\", line 41, in finalize_options\n",
      "      orig.build_py.finalize_options(self)\n",
      "    File \"c:\\Users\\hecto\\.conda\\envs\\larva\\Lib\\site-packages\\setuptools\\_distutils\\command\\build_py.py\", line 58, in finalize_options\n",
      "      self.package_dir[name] = convert_path(path)\n",
      "                               ^^^^^^^^^^^^^^^^^^\n",
      "    File \"c:\\Users\\hecto\\.conda\\envs\\larva\\Lib\\site-packages\\setuptools\\_distutils\\util.py\", line 135, in convert_path\n",
      "      raise ValueError(f\"path '{pathname}' cannot end with '/'\")\n",
      "  ValueError: path 'lib/python/' cannot end with '/'\n",
      "  error: subprocess-exited-with-error\n",
      "  \n",
      "  × python setup.py egg_info did not run successfully.\n",
      "  │ exit code: 1\n",
      "  ╰─> See above for output.\n",
      "  \n",
      "  note: This error originates from a subprocess, and is likely not a problem with pip.\n",
      "  full command: 'c:\\Users\\hecto\\.conda\\envs\\larva\\python.exe' -c '\n",
      "  exec(compile('\"'\"''\"'\"''\"'\"'\n",
      "  # This is <pip-setuptools-caller> -- a caller that pip uses to run setup.py\n",
      "  #\n",
      "  # - It imports setuptools before invoking setup.py, to enable projects that directly\n",
      "  #   import from `distutils.core` to work with newer packaging standards.\n",
      "  # - It provides a clear error message when setuptools is not installed.\n",
      "  # - It sets `sys.argv[0]` to the underlying `setup.py`, when invoking `setup.py` so\n",
      "  #   setuptools doesn'\"'\"'t think the script is `-c`. This avoids the following warning:\n",
      "  #     manifest_maker: standard file '\"'\"'-c'\"'\"' not found\".\n",
      "  # - It generates a shim setup.py, for handling setup.cfg-only projects.\n",
      "  import os, sys, tokenize\n",
      "  \n",
      "  try:\n",
      "      import setuptools\n",
      "  except ImportError as error:\n",
      "      print(\n",
      "          \"ERROR: Can not execute `setup.py` since setuptools is not available in \"\n",
      "          \"the build environment.\",\n",
      "          file=sys.stderr,\n",
      "      )\n",
      "      sys.exit(1)\n",
      "  \n",
      "  __file__ = %r\n",
      "  sys.argv[0] = __file__\n",
      "  \n",
      "  if os.path.exists(__file__):\n",
      "      filename = __file__\n",
      "      with tokenize.open(__file__) as f:\n",
      "          setup_py_code = f.read()\n",
      "  else:\n",
      "      filename = \"<auto-generated setuptools caller>\"\n",
      "      setup_py_code = \"from setuptools import setup; setup()\"\n",
      "  \n",
      "  exec(compile(setup_py_code, filename, \"exec\"))\n",
      "  '\"'\"''\"'\"''\"'\"' % ('\"'\"'C:\\\\Users\\\\hecto\\\\AppData\\\\Local\\\\Temp\\\\pip-install-rgt4g6v7\\\\jetson-gpio_a6580114eaa747ad96ee76483077be57\\\\setup.py'\"'\"',), \"<pip-setuptools-caller>\", \"exec\"))' egg_info --egg-base 'C:\\Users\\hecto\\AppData\\Local\\Temp\\pip-pip-egg-info-99rm85_3'\n",
      "  cwd: C:\\Users\\hecto\\AppData\\Local\\Temp\\pip-install-rgt4g6v7\\jetson-gpio_a6580114eaa747ad96ee76483077be57\\\\\n",
      "error: metadata-generation-failed\n",
      "\n",
      "× Encountered error while generating package metadata.\n",
      "╰─> See above for output.\n",
      "\n",
      "note: This is an issue with the package mentioned above, not pip.\n",
      "hint: See above for details.\n"
     ]
    }
   ],
   "source": [
    "%pip install -e . --verbose"
   ]
  }
 ],
 "metadata": {
  "kernelspec": {
   "display_name": "larva",
   "language": "python",
   "name": "python3"
  },
  "language_info": {
   "codemirror_mode": {
    "name": "ipython",
    "version": 3
   },
   "file_extension": ".py",
   "mimetype": "text/x-python",
   "name": "python",
   "nbconvert_exporter": "python",
   "pygments_lexer": "ipython3",
   "version": "3.12.5"
  }
 },
 "nbformat": 4,
 "nbformat_minor": 2
}
